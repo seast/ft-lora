{
 "cells": [
  {
   "cell_type": "markdown",
   "id": "c6583bf7-d5ae-4ef8-b9f8-804e003b2242",
   "metadata": {},
   "source": [
    "# Fine-tuning LLMs for News Category (Evaluation)\n",
    "\n",
    "Inspired by [Kshitiz Sahay's blog](https://medium.com/@kshitiz.sahay26/fine-tuning-llama-2-for-news-category-prediction-a-step-by-step-comprehensive-guide-to-fine-tuning-48c06dee28a9)\n",
    "\n",
    "step-by-step tutorial for fine-tuning any LLM (Large Language Model). \n",
    "\n",
    "This guide will be divided into two parts:\n",
    "\n",
    "**Part 3: Evaluate Model**\n",
    "1. Load the model\n",
    "2. Creating test text"
   ]
  },
  {
   "cell_type": "code",
   "execution_count": 1,
   "id": "6ce2e84a-3bc4-4d01-b332-1c32c0f1d591",
   "metadata": {
    "tags": []
   },
   "outputs": [],
   "source": [
    "from peft import PeftModel\n",
    "from transformers import AutoModelForCausalLM, AutoTokenizer"
   ]
  },
  {
   "cell_type": "code",
   "execution_count": 2,
   "id": "8758f394-59bb-4cf4-aa1e-c7af011094ea",
   "metadata": {
    "tags": []
   },
   "outputs": [
    {
     "name": "stderr",
     "output_type": "stream",
     "text": [
      "/usr/local/lib/python3.9/dist-packages/bytedmetrics/__init__.py:10: UserWarning: bytedmetrics is renamed to bytedance.metrics, please using `bytedance.metrics` instead of `bytedmetrics`\n",
      "  warnings.warn(\"bytedmetrics is renamed to bytedance.metrics, please using `bytedance.metrics` instead of `bytedmetrics`\")\n",
      "Failed to detect the name of this notebook, you can set it manually with the WANDB_NOTEBOOK_NAME environment variable to enable code saving.\n",
      "/usr/local/lib/python3.9/dist-packages/bytedmetrics/__init__.py:10: UserWarning: bytedmetrics is renamed to bytedance.metrics, please using `bytedance.metrics` instead of `bytedmetrics`\n",
      "  warnings.warn(\"bytedmetrics is renamed to bytedance.metrics, please using `bytedance.metrics` instead of `bytedmetrics`\")\n"
     ]
    }
   ],
   "source": [
    "\"\"\"\n",
    "if torch.cuda.is_available():\n",
    "    # Get the number of CUDA devices\n",
    "    device_count = torch.cuda.device_count()\n",
    "    print(f\"CUDA is available with {device_count} CUDA device(s)!\")\n",
    "    \n",
    "    # Get the name of each CUDA device\n",
    "    for i in range(device_count):\n",
    "        print(f\"Device {i}: {torch.cuda.get_device_name(i)}\")\n",
    "else:\n",
    "    print(\"CUDA is not available. Running on CPU.\")\n",
    "\"\"\"\n",
    "import os\n",
    "import torch\n",
    "import wandb\n",
    "\n",
    "wandb.init(mode=\"disabled\")\n",
    "os.environ['WANDB_NOTEBOOK_NAME'] = \"NewsClassificationEval\"\n",
    "torch.cuda.empty_cache()\n",
    "\n",
    "BASE_DIR = '/mlx_devbox/users/haidong.shao/playground/'\n",
    "#model_path = 'openlm-research/open_llama_3b_v2'\n",
    "model_path = \"Qwen/Qwen2-0.5B\"\n",
    "\n",
    "TORCH_DEVICE = torch.device('cuda' if torch.cuda.is_available() else 'cpu')"
   ]
  },
  {
   "cell_type": "code",
   "execution_count": 3,
   "id": "567b6c7f-dc29-4303-b584-1d4e3bfd6620",
   "metadata": {
    "tags": []
   },
   "outputs": [
    {
     "name": "stderr",
     "output_type": "stream",
     "text": [
      "/usr/local/lib/python3.9/dist-packages/huggingface_hub/file_download.py:1132: FutureWarning: `resume_download` is deprecated and will be removed in version 1.0.0. Downloads always resume when possible. If you want to force a new download, use `force_download=True`.\n",
      "  warnings.warn(\n",
      "Special tokens have been added in the vocabulary, make sure the associated word embeddings are fine-tuned or trained.\n"
     ]
    }
   ],
   "source": [
    "tokenizer = AutoTokenizer.from_pretrained(model_path)\n",
    "#tokenizer.add_special_tokens({'pad_token': '[PAD]'})"
   ]
  },
  {
   "cell_type": "code",
   "execution_count": 4,
   "id": "88e533ff-3d4b-453c-9a95-5d9e5aac4b2b",
   "metadata": {
    "tags": []
   },
   "outputs": [
    {
     "data": {
      "text/plain": [
       "Qwen2ForCausalLM(\n",
       "  (model): Qwen2Model(\n",
       "    (embed_tokens): Embedding(151936, 896)\n",
       "    (layers): ModuleList(\n",
       "      (0-23): 24 x Qwen2DecoderLayer(\n",
       "        (self_attn): Qwen2Attention(\n",
       "          (q_proj): Linear(in_features=896, out_features=896, bias=True)\n",
       "          (k_proj): Linear(in_features=896, out_features=128, bias=True)\n",
       "          (v_proj): Linear(in_features=896, out_features=128, bias=True)\n",
       "          (o_proj): Linear(in_features=896, out_features=896, bias=False)\n",
       "          (rotary_emb): Qwen2RotaryEmbedding()\n",
       "        )\n",
       "        (mlp): Qwen2MLP(\n",
       "          (gate_proj): Linear(in_features=896, out_features=4864, bias=False)\n",
       "          (up_proj): Linear(in_features=896, out_features=4864, bias=False)\n",
       "          (down_proj): Linear(in_features=4864, out_features=896, bias=False)\n",
       "          (act_fn): SiLU()\n",
       "        )\n",
       "        (input_layernorm): Qwen2RMSNorm()\n",
       "        (post_attention_layernorm): Qwen2RMSNorm()\n",
       "      )\n",
       "    )\n",
       "    (norm): Qwen2RMSNorm()\n",
       "  )\n",
       "  (lm_head): Linear(in_features=896, out_features=151936, bias=False)\n",
       ")"
      ]
     },
     "execution_count": 4,
     "metadata": {},
     "output_type": "execute_result"
    }
   ],
   "source": [
    "#model = LlamaForCausalLM.from_pretrained(\n",
    "model = AutoModelForCausalLM.from_pretrained(\n",
    "\n",
    "    model_path, #load_in_8bit=True, \n",
    "    device_map='auto',\n",
    ")\n",
    "model.to(TORCH_DEVICE)"
   ]
  },
  {
   "cell_type": "code",
   "execution_count": 5,
   "id": "5cf00478-67d5-4c00-8f36-55080a1b2512",
   "metadata": {
    "tags": []
   },
   "outputs": [],
   "source": [
    "peft_model_id = BASE_DIR + 'results/checkpoint-600'\n",
    "peft_model = PeftModel.from_pretrained(model, peft_model_id)"
   ]
  },
  {
   "cell_type": "markdown",
   "id": "f1ea47f3-1ddc-4350-8dc9-1c1241c02160",
   "metadata": {},
   "source": [
    "## New Model\n",
    "Copy some text from google news"
   ]
  },
  {
   "cell_type": "code",
   "execution_count": 6,
   "id": "928b4d12-4975-4eba-8eb1-2605c856b9be",
   "metadata": {
    "tags": []
   },
   "outputs": [],
   "source": [
    "test_strings = [\"The result of Sunday’s parliamentary election runoff comes as a huge surprise, with France appearing to be on the verge of a major political shift – but not the one everyone was expecting.No pollster predicted before Sunday that a left-wing alliance would win and that the far right would come in third place. This is a shocking reversal of the outcome of the first round of voting, if tonight’s results match the projections. For now, France seems ungovernable. With no party projected to get close to clinching a majority, the parliament will be in a state of paralysis, split between three blocs.\",\n",
    "\"Earlier this year, the South Korean tech giant, which is the largest phone maker in the world by shipment volume, announced the Galaxy Ring, its first finger-worn health tracker and a direct competitor to Oura's popular Oura Ring wellness device. With Samsung's Unpacked event coming up on July 10, we're expecting to learn a lot more about the company's big challenger to the Oura Ring, including its price, when it'll launch and additional details on its health-tracking capabilities. Given Samsung's massive presence in the consumer electronics space, you'd think Oura would be concerned about the Galaxy Ring's arrival. \",\n",
    "\"On the first day of production on the New Zealand location of “Avatar: The Way of Water,” actor Cliff Curtis asked if he could bring his family to the film’s home base to give a traditional blessing. Curtis showed up with 43 people and led an elaborate Maori blessing in front of the entire crew, then gave gifts to the crew members. Producer Jon Landau’s gift was a carved wooden oar — as Landau told TheWrap a couple of years later, “It was to help steer the ship as we were going into production. I still have it hanging on my wall\",\n",
    "\"Shares of industrial and transportation companies rose after inflation data. The consumer-price inflation index slowed to a 3% annual rate, significantly softer than economists had forecast, and likely setting up a Federal Reserve rate cut in September. Shares of Joby Aviation rallied after the maker of emission-free aircraft reported a successful 523-mile flight of an electrical aircraft.\"            \n",
    "]\n",
    "\n",
    "chinese_test_strings = [\"Xbox、ABathing Ape 將推聯乘產品？大家沒有看錯啊！早前美國 A Bathing Ape IG 已經 post 了 Xbox 與 A Bathing Ape 推出聯乘產品的預告短片，從中更可見當中有何產品推出的。.\",\n",
    "\"今屆港姐別開生面，由觀眾投票決定正式入圍佳麗名單，昨晚（7日）無綫播出節目《誰是入圍者》讓觀眾在投票前對參賽者們進一步了解，當中有部分來自內地及海外，其中有「河北黃婉佩（Race@2R）」之稱的陳甜甜，樣子甜美，不過一開口就嚇親人，內地口音非常重，幸好字幕拯救了觀眾，來自河北的她坦言來港不到一年，現時每日上2至3小時堂學廣東話，最欣賞的女星是胡杏兒，雖然發音不標準，但她仍十分落力全程以廣東話對答，誠意可嘉。\",\n",
    "\"英格蘭隊昨晨於歐洲國家盃8強法定時間內1：1逼和瑞士隊，至互射12碼階段靠門將比克福特救出敵衛文路爾艾簡治首輪極刑，加上隊友5輪全中，終贏5：3晉級，將面對荷蘭隊力爭連續兩屆殺入決賽。賽後比克福特的「提水」水樽成焦點外，是役膺全場最佳的翼鋒布卡約沙卡在極列戰中鵠，為上屆決賽射失「贖罪」，亦獲主帥修夫基點名稱讚\"]\n",
    "\n",
    "test_strings = test_strings+chinese_test_strings\n",
    "\n",
    "predictions = []\n",
    "for test in test_strings:\n",
    "  prompt = \"\"\"Below is an instruction that describes a task. Write a response that appropriately completes the request..\n",
    "\n",
    "  ### Instruction:\n",
    "  Categorize the news article into one of the 5 categories:\\n\\ntech\\nbusiness\\nsport\\nentertainment\\npolitics\n",
    "  \n",
    "  Input:\n",
    "  {}\n",
    "\n",
    "  ### Response:\"\"\".format(test)\n",
    "  input_ids_temp = tokenizer(prompt, return_tensors=\"pt\")\n",
    "  input_ids = input_ids_temp.input_ids.to(TORCH_DEVICE)\n",
    "\n",
    "  generation_output = peft_model.generate(\n",
    "      input_ids=input_ids, \n",
    "      max_new_tokens=156,\n",
    "      pad_token_id=tokenizer.eos_token_id,\n",
    "      attention_mask=input_ids_temp['attention_mask'].to(TORCH_DEVICE)\n",
    "  )\n",
    "  predictions.append(tokenizer.decode(generation_output[0]))"
   ]
  },
  {
   "cell_type": "code",
   "execution_count": 7,
   "id": "ca0d8e6e-2c81-4ea5-b113-a119530980fc",
   "metadata": {
    "tags": []
   },
   "outputs": [
    {
     "name": "stdout",
     "output_type": "stream",
     "text": [
      "The result of Sunday’s parliamentary election runoff comes as a huge surprise, with France appearing to be on the verge of a major political shift – but not the one everyone was expecting.No pollster predicted before Sunday that a left-wing alliance would win and that the far right would come in third place. This is a shocking reversal of the outcome of the first round of voting, if tonight’s results match the projections. For now, France seems ungovernable. With no party projected to get close to clinching a majority, the parliament will be in a state of paralysis, split between three blocs.\n",
      "\n",
      "politics\n",
      "--------\n",
      "Earlier this year, the South Korean tech giant, which is the largest phone maker in the world by shipment volume, announced the Galaxy Ring, its first finger-worn health tracker and a direct competitor to Oura's popular Oura Ring wellness device. With Samsung's Unpacked event coming up on July 10, we're expecting to learn a lot more about the company's big challenger to the Oura Ring, including its price, when it'll launch and additional details on its health-tracking capabilities. Given Samsung's massive presence in the consumer electronics space, you'd think Oura would be concerned about the Galaxy Ring's arrival. \n",
      "\n",
      "technology\n",
      "--------\n",
      "On the first day of production on the New Zealand location of “Avatar: The Way of Water,” actor Cliff Curtis asked if he could bring his family to the film’s home base to give a traditional blessing. Curtis showed up with 43 people and led an elaborate Maori blessing in front of the entire crew, then gave gifts to the crew members. Producer Jon Landau’s gift was a carved wooden oar — as Landau told TheWrap a couple of years later, “It was to help steer the ship as we were going into production. I still have it hanging on my wall\n",
      "\n",
      "entertainment\n",
      "--------\n",
      "Shares of industrial and transportation companies rose after inflation data. The consumer-price inflation index slowed to a 3% annual rate, significantly softer than economists had forecast, and likely setting up a Federal Reserve rate cut in September. Shares of Joby Aviation rallied after the maker of emission-free aircraft reported a successful 523-mile flight of an electrical aircraft.\n",
      "\n",
      "business\n",
      "--------\n",
      "Xbox、ABathing Ape 將推聯乘產品？大家沒有看錯啊！早前美國 A Bathing Ape IG 已經 post 了 Xbox 與 A Bathing Ape 推出聯乘產品的預告短片，從中更可見當中有何產品推出的。.\n",
      "\n",
      "technology\n",
      "--------\n",
      "今屆港姐別開生面，由觀眾投票決定正式入圍佳麗名單，昨晚（7日）無綫播出節目《誰是入圍者》讓觀眾在投票前對參賽者們進一步了解，當中有部分來自內地及海外，其中有「河北黃婉佩（Race@2R）」之稱的陳甜甜，樣子甜美，不過一開口就嚇親人，內地口音非常重，幸好字幕拯救了觀眾，來自河北的她坦言來港不到一年，現時每日上2至3小時堂學廣東話，最欣賞的女星是胡杏兒，雖然發音不標準，但她仍十分落力全程以廣東話對答，誠意可嘉。\n",
      "\n",
      "entertainment\n",
      "--------\n",
      "英格蘭隊昨晨於歐洲國家盃8強法定時間內1：1逼和瑞士隊，至互射12碼階段靠門將比克福特救出敵衛文路爾艾簡治首輪極刑，加上隊友5輪全中，終贏5：3晉級，將面對荷蘭隊力爭連續兩屆殺入決賽。賽後比克福特的「提水」水樽成焦點外，是役膺全場最佳的翼鋒布卡約沙卡在極列戰中鵠，為上屆決賽射失「贖罪」，亦獲主帥修夫基點名稱讚\n",
      "\n",
      "sports\n",
      "--------\n"
     ]
    }
   ],
   "source": [
    "def extract_response_text(input_string):\n",
    "    start_marker = '### Response:'\n",
    "    end_marker = '###'\n",
    "    \n",
    "    start_index = input_string.find(start_marker)\n",
    "    if start_index == -1:\n",
    "        return None\n",
    "    \n",
    "    start_index += len(start_marker)\n",
    "    \n",
    "    end_index = input_string.find(end_marker, start_index)\n",
    "    if end_index == -1:\n",
    "        return input_string[start_index:]\n",
    "    \n",
    "    return input_string[start_index:end_index].strip()\n",
    "for i in range(len(predictions)): \n",
    "  pred = predictions[i]\n",
    "  #print(pred)\n",
    "  text = test_strings[i]\n",
    "  print(text+'\\n')\n",
    "  print(extract_response_text(pred))\n",
    "  print('--------')"
   ]
  },
  {
   "cell_type": "markdown",
   "id": "b32542a6-1726-43a6-88a6-e0537a826727",
   "metadata": {
    "tags": []
   },
   "source": [
    "## Base Model\n",
    "I can not find a good prompt to generate reasonable outputs"
   ]
  },
  {
   "cell_type": "code",
   "execution_count": null,
   "id": "db2e75a4-da69-4150-badd-0bc43b6c92a4",
   "metadata": {
    "tags": []
   },
   "outputs": [
    {
     "name": "stdout",
     "output_type": "stream",
     "text": [
      "progress 50 / 2225, errors 6\n",
      "progress 100 / 2225, errors 6\n",
      "progress 150 / 2225, errors 10\n",
      "progress 200 / 2225, errors 14\n",
      "progress 250 / 2225, errors 15\n",
      "progress 300 / 2225, errors 16\n",
      "progress 350 / 2225, errors 17\n",
      "progress 400 / 2225, errors 19\n",
      "progress 450 / 2225, errors 25\n",
      "progress 500 / 2225, errors 28\n",
      "progress 550 / 2225, errors 32\n"
     ]
    }
   ],
   "source": [
    "import pandas as pd\n",
    "\n",
    "dataset_name = \"ft-lora/bbc-text.csv\"\n",
    "df = pd.read_csv(BASE_DIR+dataset_name)\n",
    "df['category'].replace('tech', 'technology',inplace=True)\n",
    "df['category'].replace('sport', 'sports',inplace=True)\n",
    "\n",
    "predictions = []\n",
    "cnt = 0\n",
    "#for test in df['text']:\n",
    "num_rows = len(df)\n",
    "\n",
    "for i in range(num_rows - 1, -1, -1):\n",
    "  row = df.iloc[i]\n",
    "  category = row['category']\n",
    "  test = row['text']\n",
    "  prompt = \"\"\"Below is an instruction that describes a task. Write a response that appropriately completes the request..\n",
    "\n",
    "  ### Instruction:\n",
    "  Categorize the news article into one of the 5 categories:\\n\\ntechnology\\nbusiness\\nsports\\nentertainment\\npolitics\n",
    "  \n",
    "  Input:\n",
    "  {}\n",
    "\n",
    "  ### Response:\"\"\".format(test)\n",
    "  input_ids_temp = tokenizer(prompt, return_tensors=\"pt\")\n",
    "  input_ids = input_ids_temp.input_ids.to(TORCH_DEVICE)\n",
    "\n",
    "  generation_output = peft_model.generate(\n",
    "      input_ids=input_ids, \n",
    "      max_new_tokens=156,\n",
    "      pad_token_id=tokenizer.eos_token_id,\n",
    "      attention_mask=input_ids_temp['attention_mask'].to(TORCH_DEVICE)\n",
    "  )\n",
    "  eval_category = extract_response_text(tokenizer.decode(generation_output[0]))\n",
    "  if category != eval_category:\n",
    "    msg = \"Error {},  ##eval## {},  ##category## {}\".format(test, eval_category, category)\n",
    "    predictions.append(msg)\n",
    "    #print(msg)\n",
    "  cnt = cnt + 1\n",
    "  if cnt % 50 == 0:\n",
    "    print(\"progress {} / {}, errors {}\".format(cnt, num_rows, len(predictions)))"
   ]
  },
  {
   "cell_type": "code",
   "execution_count": null,
   "id": "03fa51cc-3a8b-43ef-a6e7-84ba6bc68493",
   "metadata": {
    "tags": []
   },
   "outputs": [],
   "source": [
    "#df_copy = df.copy()\n",
    "#df_copy['eval_category'] = predictions\n",
    "#df_copy\n",
    "#predictions\n"
   ]
  },
  {
   "cell_type": "code",
   "execution_count": null,
   "id": "509acc43-311e-4080-87e6-4ae8fcf234fd",
   "metadata": {
    "tags": []
   },
   "outputs": [],
   "source": [
    "tokenizer = AutoTokenizer.from_pretrained(model_path)\n",
    "model = AutoModelForCausalLM.from_pretrained(model_path, #load_in_8bit=True, \n",
    "                                         device_map='auto',)"
   ]
  },
  {
   "cell_type": "code",
   "execution_count": null,
   "id": "03f8e817-7656-45c2-ae44-0cf1602a6fcf",
   "metadata": {
    "tags": []
   },
   "outputs": [],
   "source": [
    "predictions = []\n",
    "for test in test_strings:\n",
    "    prompt = 'News text:\\n\\n ' + test + '\\n The closest category for the above text should be (select one from tech, business, sport, entertainment, or politics):'\n",
    "    input_ids_temp = tokenizer(prompt, return_tensors=\"pt\")\n",
    "    input_ids = input_ids_temp.input_ids.to(TORCH_DEVICE)\n",
    "    generation_output = model.generate(\n",
    "        input_ids=input_ids,\n",
    "        max_new_tokens=156,\n",
    "        pad_token_id=tokenizer.eos_token_id,\n",
    "        attention_mask=input_ids_temp['attention_mask'].to(TORCH_DEVICE)\n",
    "    )\n",
    "    predictions.append(tokenizer.decode(generation_output[0]))\n",
    "\n",
    "for i in range(len(predictions)): \n",
    "  pred = predictions[i]\n",
    "  print(pred)\n",
    "  print('--------')"
   ]
  },
  {
   "cell_type": "code",
   "execution_count": null,
   "id": "2cdcae93-449f-413b-a590-197b7b4e78e8",
   "metadata": {},
   "outputs": [],
   "source": []
  }
 ],
 "metadata": {
  "kernelspec": {
   "display_name": "596580",
   "language": "",
   "name": "596580"
  },
  "language_info": {
   "codemirror_mode": {
    "name": "ipython",
    "version": 3
   },
   "file_extension": ".py",
   "mimetype": "text/x-python",
   "name": "python",
   "nbconvert_exporter": "python",
   "pygments_lexer": "ipython3",
   "version": "3.9.2"
  }
 },
 "nbformat": 4,
 "nbformat_minor": 5
}
