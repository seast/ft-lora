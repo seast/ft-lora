{
 "cells": [
  {
   "cell_type": "markdown",
   "id": "c6583bf7-d5ae-4ef8-b9f8-804e003b2242",
   "metadata": {},
   "source": [
    "# Fine-tuning Llama 2 for News Category (Evaluation)\n",
    "\n",
    "Inspired by [Kshitiz Sahay's blog](https://medium.com/@kshitiz.sahay26/fine-tuning-llama-2-for-news-category-prediction-a-step-by-step-comprehensive-guide-to-fine-tuning-48c06dee28a9)\n",
    "\n",
    "step-by-step tutorial for fine-tuning any LLM (Large Language Model). \n",
    "\n",
    "This guide will be divided into two parts:\n",
    "\n",
    "**Part 3: Evaluate Model**\n",
    "1. Load the model\n",
    "2. Creating test text"
   ]
  },
  {
   "cell_type": "code",
   "execution_count": 1,
   "id": "6ce2e84a-3bc4-4d01-b332-1c32c0f1d591",
   "metadata": {
    "tags": []
   },
   "outputs": [
    {
     "name": "stdout",
     "output_type": "stream",
     "text": [
      "Setting ds_accelerator to cuda (auto detect)\n"
     ]
    }
   ],
   "source": [
    "from peft import get_peft_config, PeftModel, PeftConfig, get_peft_model, LoraConfig, TaskType\n",
    "from transformers import AutoModelForCausalLM\n",
    "from transformers import LlamaTokenizer, LlamaForCausalLM\n",
    "import torch\n",
    "from transformers.trainer_callback import TrainerCallback\n",
    "import os\n",
    "import pandas as pd\n",
    "from transformers import BitsAndBytesConfig\n",
    "from trl import SFTTrainer\n",
    "import mlflow\n",
    "\n",
    "# MAGIC %pip install transformers==4.31.0 datasets==2.13.0 peft==0.4.0 accelerate==0.21.0 bitsandbytes==0.40.2 trl==0.4.7"
   ]
  },
  {
   "cell_type": "code",
   "execution_count": 2,
   "id": "8758f394-59bb-4cf4-aa1e-c7af011094ea",
   "metadata": {
    "tags": []
   },
   "outputs": [
    {
     "name": "stderr",
     "output_type": "stream",
     "text": [
      "\u001b[34m\u001b[1mwandb\u001b[0m: Currently logged in as: \u001b[33mseastii\u001b[0m (\u001b[33mseastii-ByteDance\u001b[0m). Use \u001b[1m`wandb login --relogin`\u001b[0m to force relogin\n",
      "\u001b[34m\u001b[1mwandb\u001b[0m: \u001b[33mWARNING\u001b[0m If you're specifying your api key in code, ensure this code is not shared publicly.\n",
      "\u001b[34m\u001b[1mwandb\u001b[0m: \u001b[33mWARNING\u001b[0m Consider setting the WANDB_API_KEY environment variable, or running `wandb login` from the command line.\n",
      "\u001b[34m\u001b[1mwandb\u001b[0m: Appending key for api.wandb.ai to your netrc file: /root/.netrc\n",
      "\u001b[34m\u001b[1mwandb\u001b[0m: Tracking run with wandb version 0.17.4\n",
      "\u001b[34m\u001b[1mwandb\u001b[0m: Run data is saved locally in \u001b[35m\u001b[1m/root/.jupyter/connection/wandb/run-20240708_040455-5evkl7w8\u001b[0m\n",
      "\u001b[34m\u001b[1mwandb\u001b[0m: Run \u001b[1m`wandb offline`\u001b[0m to turn off syncing.\n",
      "\u001b[34m\u001b[1mwandb\u001b[0m: Syncing run \u001b[33mlora\u001b[0m\n",
      "\u001b[34m\u001b[1mwandb\u001b[0m: ⭐️ View project at \u001b[34m\u001b[4mhttps://wandb.ai/seastii-ByteDance/hd-test\u001b[0m\n",
      "\u001b[34m\u001b[1mwandb\u001b[0m: 🚀 View run at \u001b[34m\u001b[4mhttps://wandb.ai/seastii-ByteDance/hd-test/runs/5evkl7w8\u001b[0m\n"
     ]
    },
    {
     "name": "stdout",
     "output_type": "stream",
     "text": [
      "1\n"
     ]
    }
   ],
   "source": [
    "\"\"\"\n",
    "if torch.cuda.is_available():\n",
    "    # Get the number of CUDA devices\n",
    "    device_count = torch.cuda.device_count()\n",
    "    print(f\"CUDA is available with {device_count} CUDA device(s)!\")\n",
    "    \n",
    "    # Get the name of each CUDA device\n",
    "    for i in range(device_count):\n",
    "        print(f\"Device {i}: {torch.cuda.get_device_name(i)}\")\n",
    "else:\n",
    "    print(\"CUDA is not available. Running on CPU.\")\n",
    "\"\"\"\n",
    "import wandb\n",
    "\n",
    "wandb.init(mode=\"disabled\")"
   ]
  },
  {
   "cell_type": "code",
   "execution_count": 8,
   "id": "8986903c-b9c9-4ce9-9cfd-399915312fed",
   "metadata": {
    "tags": []
   },
   "outputs": [],
   "source": [
    "#encoded_input = tokenizer(\"Sample input sequence\", return_tensors='pt', padding=True, truncation=True)\n",
    "#print(encoded_input)\n",
    "BASE_DIR = '/mlx_devbox/users/haidong.shao/playground/'"
   ]
  },
  {
   "cell_type": "code",
   "execution_count": 9,
   "id": "a839f822-4059-4fe7-a04c-f33403605e24",
   "metadata": {
    "tags": []
   },
   "outputs": [],
   "source": [
    "model_path = 'openlm-research/open_llama_3b_v2'"
   ]
  },
  {
   "cell_type": "code",
   "execution_count": 10,
   "id": "567b6c7f-dc29-4303-b584-1d4e3bfd6620",
   "metadata": {
    "tags": []
   },
   "outputs": [
    {
     "data": {
      "text/plain": [
       "1"
      ]
     },
     "execution_count": 10,
     "metadata": {},
     "output_type": "execute_result"
    }
   ],
   "source": [
    "from transformers import AutoTokenizer\n",
    "\n",
    "tokenizer = AutoTokenizer.from_pretrained(model_path)\n",
    "#tokenizer = LlamaTokenizer.from_pretrained(model_path)\n",
    "tokenizer.add_special_tokens({'pad_token': '[PAD]'})"
   ]
  },
  {
   "cell_type": "code",
   "execution_count": 11,
   "id": "88e533ff-3d4b-453c-9a95-5d9e5aac4b2b",
   "metadata": {
    "tags": []
   },
   "outputs": [],
   "source": [
    "model = LlamaForCausalLM.from_pretrained(\n",
    "    model_path, #load_in_8bit=True, \n",
    "    device_map='auto',\n",
    ")"
   ]
  },
  {
   "cell_type": "code",
   "execution_count": 16,
   "id": "5cf00478-67d5-4c00-8f36-55080a1b2512",
   "metadata": {
    "tags": []
   },
   "outputs": [],
   "source": [
    "peft_model_id = BASE_DIR + 'results/checkpoint-250'\n",
    "peft_model = PeftModel.from_pretrained(model, peft_model_id)"
   ]
  },
  {
   "cell_type": "markdown",
   "id": "f1ea47f3-1ddc-4350-8dc9-1c1241c02160",
   "metadata": {},
   "source": [
    "## New Model\n",
    "Copy some text from google news"
   ]
  },
  {
   "cell_type": "code",
   "execution_count": 26,
   "id": "928b4d12-4975-4eba-8eb1-2605c856b9be",
   "metadata": {
    "tags": []
   },
   "outputs": [],
   "source": [
    "test_strings = [\"The result of Sunday’s parliamentary election runoff comes as a huge surprise, with France appearing to be on the verge of a major political shift – but not the one everyone was expecting.No pollster predicted before Sunday that a left-wing alliance would win and that the far right would come in third place. This is a shocking reversal of the outcome of the first round of voting, if tonight’s results match the projections. For now, France seems ungovernable. With no party projected to get close to clinching a majority, the parliament will be in a state of paralysis, split between three blocs.\",\n",
    "\"Earlier this year, the South Korean tech giant, which is the largest phone maker in the world by shipment volume, announced the Galaxy Ring, its first finger-worn health tracker and a direct competitor to Oura's popular Oura Ring wellness device. With Samsung's Unpacked event coming up on July 10, we're expecting to learn a lot more about the company's big challenger to the Oura Ring, including its price, when it'll launch and additional details on its health-tracking capabilities. Given Samsung's massive presence in the consumer electronics space, you'd think Oura would be concerned about the Galaxy Ring's arrival. \",\n",
    "\"On the first day of production on the New Zealand location of “Avatar: The Way of Water,” actor Cliff Curtis asked if he could bring his family to the film’s home base to give a traditional blessing. Curtis showed up with 43 people and led an elaborate Maori blessing in front of the entire crew, then gave gifts to the crew members. Producer Jon Landau’s gift was a carved wooden oar — as Landau told TheWrap a couple of years later, “It was to help steer the ship as we were going into production. I still have it hanging on my wall\"]\n",
    "\n",
    "predictions = []\n",
    "for test in test_strings:\n",
    "  prompt = \"\"\"Below is an instruction that describes a task. Write a response that appropriately completes the request..\n",
    "\n",
    "  ### Instruction:\n",
    "  Categorize the news article into one of the 5 categories:\\n\\ntech\\nbusiness\\nsport\\nentertainment\\npolitics\n",
    "  \n",
    "  Input:\n",
    "  {}\n",
    "\n",
    "  ### Response:\"\"\".format(test)\n",
    "  input_ids = tokenizer(prompt, return_tensors=\"pt\").input_ids.to('cuda')\n",
    "\n",
    "  generation_output = model.generate(\n",
    "      input_ids=input_ids, max_new_tokens=156\n",
    "  )\n",
    "  predictions.append(tokenizer.decode(generation_output[0]))"
   ]
  },
  {
   "cell_type": "code",
   "execution_count": 28,
   "id": "ca0d8e6e-2c81-4ea5-b113-a119530980fc",
   "metadata": {
    "tags": []
   },
   "outputs": [
    {
     "name": "stdout",
     "output_type": "stream",
     "text": [
      "The result of Sunday’s parliamentary election runoff comes as a huge surprise, with France appearing to be on the verge of a major political shift – but not the one everyone was expecting.No pollster predicted before Sunday that a left-wing alliance would win and that the far right would come in third place. This is a shocking reversal of the outcome of the first round of voting, if tonight’s results match the projections. For now, France seems ungovernable. With no party projected to get close to clinching a majority, the parliament will be in a state of paralysis, split between three blocs.\n",
      "\n",
      "politics\n",
      "--------\n",
      "Earlier this year, the South Korean tech giant, which is the largest phone maker in the world by shipment volume, announced the Galaxy Ring, its first finger-worn health tracker and a direct competitor to Oura's popular Oura Ring wellness device. With Samsung's Unpacked event coming up on July 10, we're expecting to learn a lot more about the company's big challenger to the Oura Ring, including its price, when it'll launch and additional details on its health-tracking capabilities. Given Samsung's massive presence in the consumer electronics space, you'd think Oura would be concerned about the Galaxy Ring's arrival. \n",
      "\n",
      "tech\n",
      "--------\n",
      "On the first day of production on the New Zealand location of “Avatar: The Way of Water,” actor Cliff Curtis asked if he could bring his family to the film’s home base to give a traditional blessing. Curtis showed up with 43 people and led an elaborate Maori blessing in front of the entire crew, then gave gifts to the crew members. Producer Jon Landau’s gift was a carved wooden oar — as Landau told TheWrap a couple of years later, “It was to help steer the ship as we were going into production. I still have it hanging on my wall\n",
      "\n",
      "entertainment\n",
      "--------\n"
     ]
    }
   ],
   "source": [
    "def extract_response_text(input_string):\n",
    "    start_marker = '### Response:'\n",
    "    end_marker = '###'\n",
    "    \n",
    "    start_index = input_string.find(start_marker)\n",
    "    if start_index == -1:\n",
    "        return None\n",
    "    \n",
    "    start_index += len(start_marker)\n",
    "    \n",
    "    end_index = input_string.find(end_marker, start_index)\n",
    "    if end_index == -1:\n",
    "        return input_string[start_index:]\n",
    "    \n",
    "    return input_string[start_index:end_index].strip()\n",
    "for i in range(3): \n",
    "  pred = predictions[i]\n",
    "  #print(pred)\n",
    "  text = test_strings[i]\n",
    "  print(text+'\\n')\n",
    "  print(extract_response_text(pred))\n",
    "  print('--------')"
   ]
  },
  {
   "cell_type": "markdown",
   "id": "b32542a6-1726-43a6-88a6-e0537a826727",
   "metadata": {
    "tags": []
   },
   "source": [
    "## open_llama_3b_v2\n",
    "I can not find a good prompt to generate reasonable outputs"
   ]
  },
  {
   "cell_type": "code",
   "execution_count": 33,
   "id": "509acc43-311e-4080-87e6-4ae8fcf234fd",
   "metadata": {},
   "outputs": [],
   "source": [
    "model_path = 'openlm-research/open_llama_3b_v2'\n",
    "tokenizer = LlamaTokenizer.from_pretrained(model_path)\n",
    "model = LlamaForCausalLM.from_pretrained(model_path, load_in_8bit=True, device_map='auto',)\n",
    "\n",
    "test_strings = [\"The result of Sunday’s parliamentary election runoff comes as a huge surprise, with France appearing to be on the verge of a major political shift – but not the one everyone was expecting.No pollster predicted before Sunday that a left-wing alliance would win and that the far right would come in third place. This is a shocking reversal of the outcome of the first round of voting, if tonight’s results match the projections. For now, France seems ungovernable. With no party projected to get close to clinching a majority, the parliament will be in a state of paralysis, split between three blocs.\",\n",
    "\"Earlier this year, the South Korean tech giant, which is the largest phone maker in the world by shipment volume, announced the Galaxy Ring, its first finger-worn health tracker and a direct competitor to Oura's popular Oura Ring wellness device. With Samsung's Unpacked event coming up on July 10, we're expecting to learn a lot more about the company's big challenger to the Oura Ring, including its price, when it'll launch and additional details on its health-tracking capabilities. Given Samsung's massive presence in the consumer electronics space, you'd think Oura would be concerned about the Galaxy Ring's arrival. \",\n",
    "\"On the first day of production on the New Zealand location of “Avatar: The Way of Water,” actor Cliff Curtis asked if he could bring his family to the film’s home base to give a traditional blessing. Curtis showed up with 43 people and led an elaborate Maori blessing in front of the entire crew, then gave gifts to the crew members. Producer Jon Landau’s gift was a carved wooden oar — as Landau told TheWrap a couple of years later, “It was to help steer the ship as we were going into production. I still have it hanging on my wall\"]\n"
   ]
  },
  {
   "cell_type": "code",
   "execution_count": 34,
   "id": "03f8e817-7656-45c2-ae44-0cf1602a6fcf",
   "metadata": {},
   "outputs": [
    {
     "name": "stdout",
     "output_type": "stream",
     "text": [
      "<s>Q: Categorize the following text into one of the 5 categories:\n",
      "\n",
      "tech\n",
      "business\n",
      "sport\n",
      "entertainment\n",
      "politics\n",
      "\n",
      " The result of Sunday’s parliamentary election runoff comes as a huge surprise, with France appearing to be on the verge of a major political shift – but not the one everyone was expecting.No pollster predicted before Sunday that a left-wing alliance would win and that the far right would come in third place. This is a shocking reversal of the outcome of the first round of voting, if tonight’s results match the projections. For now, France seems ungovernable. With no party projected to get close to clinching a majority, the parliament will be in a state of paralysis, split between three blocs.\n",
      " The category of above text is:\n",
      "\n",
      "\n",
      "*\n",
      "\n",
      "*\n",
      "\n",
      "*\n",
      "\n",
      "*\n",
      "\n",
      "*\n",
      "\n",
      "*\n",
      "\n",
      "*\n",
      "\n",
      "*\n",
      "\n",
      "*\n",
      "\n",
      "*\n",
      "\n",
      "*\n",
      "\n",
      "*\n",
      "\n",
      "*\n",
      "\n",
      "*\n",
      "\n",
      "*\n",
      "\n",
      "*\n",
      "\n",
      "*\n",
      "\n",
      "*\n",
      "\n",
      "*\n",
      "\n",
      "*\n",
      "\n",
      "*\n",
      "\n",
      "*\n",
      "\n",
      "*\n",
      "\n",
      "*\n",
      "\n",
      "*\n",
      "\n",
      "*\n",
      "\n",
      "*\n",
      "\n",
      "*\n",
      "\n",
      "*\n",
      "\n",
      "*\n",
      "\n",
      "*\n",
      "\n",
      "*\n",
      "\n",
      "*\n",
      "\n",
      "*\n",
      "\n",
      "*\n",
      "\n",
      "*\n",
      "\n",
      "*\n",
      "\n",
      "*\n",
      "\n",
      "*\n",
      "\n",
      "*\n",
      "\n",
      "*\n",
      "\n",
      "*\n",
      "\n",
      "*\n",
      "\n",
      "*\n",
      "\n",
      "*\n",
      "\n",
      "*\n",
      "\n",
      "*\n",
      "\n",
      "*\n",
      "\n",
      "*\n",
      "\n",
      "*\n",
      "\n",
      "*\n",
      "\n",
      "\n",
      "--------\n",
      "<s>Q: Categorize the following text into one of the 5 categories:\n",
      "\n",
      "tech\n",
      "business\n",
      "sport\n",
      "entertainment\n",
      "politics\n",
      "\n",
      " Earlier this year, the South Korean tech giant, which is the largest phone maker in the world by shipment volume, announced the Galaxy Ring, its first finger-worn health tracker and a direct competitor to Oura's popular Oura Ring wellness device. With Samsung's Unpacked event coming up on July 10, we're expecting to learn a lot more about the company's big challenger to the Oura Ring, including its price, when it'll launch and additional details on its health-tracking capabilities. Given Samsung's massive presence in the consumer electronics space, you'd think Oura would be concerned about the Galaxy Ring's arrival. \n",
      " The category of above text is:\n",
      "\n",
      "\n",
      "A: tech\n",
      "B: business\n",
      "C: sport\n",
      "D: entertainment\n",
      "E: politics\n",
      "\n",
      "\n",
      "A: tech\n",
      "B: business\n",
      "C: sport\n",
      "D: entertainment\n",
      "E: politics\n",
      "\n",
      "\n",
      "A: tech\n",
      "B: business\n",
      "C: sport\n",
      "D: entertainment\n",
      "E: politics\n",
      "\n",
      "\n",
      "A: tech\n",
      "B: business\n",
      "C: sport\n",
      "D: entertainment\n",
      "E: politics\n",
      "\n",
      "\n",
      "A: tech\n",
      "B: business\n",
      "C: sport\n",
      "D: entertainment\n",
      "E: politics\n",
      "\n",
      "\n",
      "A: tech\n",
      "B: business\n",
      "C: sport\n",
      "D: entertainment\n",
      "E: politics\n",
      "\n",
      "\n",
      "A: tech\n",
      "B: business\n",
      "C: sport\n",
      "D: entertainment\n",
      "E: politics\n",
      "\n",
      "\n",
      "--------\n",
      "<s>Q: Categorize the following text into one of the 5 categories:\n",
      "\n",
      "tech\n",
      "business\n",
      "sport\n",
      "entertainment\n",
      "politics\n",
      "\n",
      " On the first day of production on the New Zealand location of “Avatar: The Way of Water,” actor Cliff Curtis asked if he could bring his family to the film’s home base to give a traditional blessing. Curtis showed up with 43 people and led an elaborate Maori blessing in front of the entire crew, then gave gifts to the crew members. Producer Jon Landau’s gift was a carved wooden oar — as Landau told TheWrap a couple of years later, “It was to help steer the ship as we were going into production. I still have it hanging on my wall\n",
      " The category of above text is:\n",
      "\n",
      "\n",
      "A: tech\n",
      "\n",
      "B: sport\n",
      "\n",
      "C: entertainment\n",
      "\n",
      "D: politics\n",
      "\n",
      "E: business\n",
      "\n",
      "\n",
      "A: tech\n",
      "\n",
      "B: sport\n",
      "\n",
      "C: entertainment\n",
      "\n",
      "D: politics\n",
      "\n",
      "E: business\n",
      "\n",
      "\n",
      "A: tech\n",
      "\n",
      "B: sport\n",
      "\n",
      "C: entertainment\n",
      "\n",
      "D: politics\n",
      "\n",
      "E: business\n",
      "\n",
      "\n",
      "A: tech\n",
      "\n",
      "B: sport\n",
      "\n",
      "C: entertainment\n",
      "\n",
      "D: politics\n",
      "\n",
      "E: business\n",
      "\n",
      "\n",
      "A: tech\n",
      "\n",
      "B: sport\n",
      "\n",
      "C: entertainment\n",
      "\n",
      "D: politics\n",
      "\n",
      "E: business\n",
      "\n",
      "\n",
      "A: tech\n",
      "\n",
      "B: sport\n",
      "\n",
      "C: entertainment\n",
      "\n",
      "D: politics\n",
      "\n",
      "E: business\n",
      "--------\n"
     ]
    }
   ],
   "source": [
    "predictions = []\n",
    "for test in test_strings:\n",
    "    prompt = 'Q: Categorize the following text into one of the 5 categories:\\n\\ntech\\nbusiness\\nsport\\nentertainment\\npolitics\\n\\n ' + test + '\\n The category of above text is:'\n",
    "    input_ids = tokenizer(prompt, return_tensors=\"pt\").input_ids.to('cuda')\n",
    "    generation_output = model.generate(\n",
    "        input_ids=input_ids, max_new_tokens=156\n",
    "    )\n",
    "    predictions.append(tokenizer.decode(generation_output[0]))\n",
    "\n",
    "for i in range(3): \n",
    "  pred = predictions[i]\n",
    "  print(pred)\n",
    "  print('--------')"
   ]
  },
  {
   "cell_type": "code",
   "execution_count": null,
   "id": "0f0ccd9d-0eb9-4bed-a96f-4741fd97d840",
   "metadata": {},
   "outputs": [],
   "source": []
  }
 ],
 "metadata": {
  "kernelspec": {
   "display_name": "2310773",
   "language": "",
   "name": "2310773"
  },
  "language_info": {
   "codemirror_mode": {
    "name": "ipython",
    "version": 3
   },
   "file_extension": ".py",
   "mimetype": "text/x-python",
   "name": "python",
   "nbconvert_exporter": "python",
   "pygments_lexer": "ipython3",
   "version": "3.9.2"
  }
 },
 "nbformat": 4,
 "nbformat_minor": 5
}
